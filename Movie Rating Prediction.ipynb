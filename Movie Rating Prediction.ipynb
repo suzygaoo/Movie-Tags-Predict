{
 "cells": [
  {
   "cell_type": "markdown",
   "metadata": {},
   "source": [
    "# Predicting Movie Ratings using Tags - Clustering & Word embeddings"
   ]
  },
  {
   "cell_type": "markdown",
   "metadata": {},
   "source": [
    "## Load Libraries and Data"
   ]
  },
  {
   "cell_type": "code",
   "execution_count": 1,
   "metadata": {},
   "outputs": [
    {
     "name": "stderr",
     "output_type": "stream",
     "text": [
      "/anaconda3/lib/python3.6/site-packages/h5py/__init__.py:36: FutureWarning: Conversion of the second argument of issubdtype from `float` to `np.floating` is deprecated. In future, it will be treated as `np.float64 == np.dtype(float).type`.\n",
      "  from ._conv import register_converters as _register_converters\n",
      "Using TensorFlow backend.\n"
     ]
    }
   ],
   "source": [
    "#load libraries\n",
    "import pandas as pd\n",
    "import numpy as np\n",
    "import matplotlib.pyplot as plt\n",
    "import seaborn as sns\n",
    "import datetime\n",
    "import re\n",
    "from sklearn.linear_model import LogisticRegression as LogReg\n",
    "from sklearn.ensemble import RandomForestClassifier\n",
    "from sklearn.metrics import classification_report\n",
    "from sklearn.feature_extraction.text import CountVectorizer\n",
    "from sklearn.cluster import KMeans\n",
    "from keras.preprocessing.text import Tokenizer\n",
    "from keras.preprocessing.sequence import pad_sequences"
   ]
  },
  {
   "cell_type": "code",
   "execution_count": 2,
   "metadata": {},
   "outputs": [],
   "source": [
    "#import datasets\n",
    "rating = pd.read_csv('rating.csv')\n",
    "tag = pd.read_csv('tag.csv')\n",
    "movie = pd.read_csv('movie.csv')"
   ]
  },
  {
   "cell_type": "code",
   "execution_count": 5,
   "metadata": {},
   "outputs": [
    {
     "name": "stdout",
     "output_type": "stream",
     "text": [
      "Shape of rating data is (20000263, 4)\n",
      "Shape of tag data is (465564, 4)\n",
      "Shape of movie data is (27278, 3)\n"
     ]
    }
   ],
   "source": [
    "print ('Shape of rating data is', rating.shape)\n",
    "print ('Shape of tag data is', tag.shape)\n",
    "print ('Shape of movie data is', movie.shape)"
   ]
  },
  {
   "cell_type": "code",
   "execution_count": 6,
   "metadata": {},
   "outputs": [],
   "source": [
    "#take a sample of data for analysis\n",
    "tags = tag.sample(frac=0.2)\n",
    "ratings = rating.sample(frac=0.2)"
   ]
  },
  {
   "cell_type": "code",
   "execution_count": 7,
   "metadata": {},
   "outputs": [
    {
     "data": {
      "text/html": [
       "<div>\n",
       "<style scoped>\n",
       "    .dataframe tbody tr th:only-of-type {\n",
       "        vertical-align: middle;\n",
       "    }\n",
       "\n",
       "    .dataframe tbody tr th {\n",
       "        vertical-align: top;\n",
       "    }\n",
       "\n",
       "    .dataframe thead th {\n",
       "        text-align: right;\n",
       "    }\n",
       "</style>\n",
       "<table border=\"1\" class=\"dataframe\">\n",
       "  <thead>\n",
       "    <tr style=\"text-align: right;\">\n",
       "      <th></th>\n",
       "      <th>userId</th>\n",
       "      <th>movieId</th>\n",
       "      <th>tag</th>\n",
       "      <th>timestamp</th>\n",
       "    </tr>\n",
       "  </thead>\n",
       "  <tbody>\n",
       "    <tr>\n",
       "      <th>165878</th>\n",
       "      <td>49129</td>\n",
       "      <td>79132</td>\n",
       "      <td>dreamlike</td>\n",
       "      <td>2011-04-27 22:51:28</td>\n",
       "    </tr>\n",
       "    <tr>\n",
       "      <th>248071</th>\n",
       "      <td>71833</td>\n",
       "      <td>4</td>\n",
       "      <td>characters</td>\n",
       "      <td>2012-04-27 21:26:49</td>\n",
       "    </tr>\n",
       "    <tr>\n",
       "      <th>324883</th>\n",
       "      <td>96182</td>\n",
       "      <td>41285</td>\n",
       "      <td>Scarlett Johansson</td>\n",
       "      <td>2012-09-22 06:27:22</td>\n",
       "    </tr>\n",
       "    <tr>\n",
       "      <th>359630</th>\n",
       "      <td>110357</td>\n",
       "      <td>88877</td>\n",
       "      <td>funny</td>\n",
       "      <td>2013-07-28 03:05:35</td>\n",
       "    </tr>\n",
       "    <tr>\n",
       "      <th>41591</th>\n",
       "      <td>10514</td>\n",
       "      <td>80166</td>\n",
       "      <td>Jason Bateman</td>\n",
       "      <td>2014-01-04 01:56:33</td>\n",
       "    </tr>\n",
       "  </tbody>\n",
       "</table>\n",
       "</div>"
      ],
      "text/plain": [
       "        userId  movieId                 tag            timestamp\n",
       "165878   49129    79132           dreamlike  2011-04-27 22:51:28\n",
       "248071   71833        4          characters  2012-04-27 21:26:49\n",
       "324883   96182    41285  Scarlett Johansson  2012-09-22 06:27:22\n",
       "359630  110357    88877               funny  2013-07-28 03:05:35\n",
       "41591    10514    80166       Jason Bateman  2014-01-04 01:56:33"
      ]
     },
     "execution_count": 7,
     "metadata": {},
     "output_type": "execute_result"
    }
   ],
   "source": [
    "tags.head()"
   ]
  },
  {
   "cell_type": "code",
   "execution_count": 8,
   "metadata": {},
   "outputs": [
    {
     "data": {
      "text/html": [
       "<div>\n",
       "<style scoped>\n",
       "    .dataframe tbody tr th:only-of-type {\n",
       "        vertical-align: middle;\n",
       "    }\n",
       "\n",
       "    .dataframe tbody tr th {\n",
       "        vertical-align: top;\n",
       "    }\n",
       "\n",
       "    .dataframe thead th {\n",
       "        text-align: right;\n",
       "    }\n",
       "</style>\n",
       "<table border=\"1\" class=\"dataframe\">\n",
       "  <thead>\n",
       "    <tr style=\"text-align: right;\">\n",
       "      <th></th>\n",
       "      <th>userId</th>\n",
       "      <th>movieId</th>\n",
       "      <th>rating</th>\n",
       "      <th>timestamp</th>\n",
       "    </tr>\n",
       "  </thead>\n",
       "  <tbody>\n",
       "    <tr>\n",
       "      <th>10935670</th>\n",
       "      <td>75632</td>\n",
       "      <td>1617</td>\n",
       "      <td>3.0</td>\n",
       "      <td>2000-08-02 23:31:09</td>\n",
       "    </tr>\n",
       "    <tr>\n",
       "      <th>2256521</th>\n",
       "      <td>15339</td>\n",
       "      <td>6378</td>\n",
       "      <td>4.0</td>\n",
       "      <td>2014-09-06 14:50:27</td>\n",
       "    </tr>\n",
       "    <tr>\n",
       "      <th>5980454</th>\n",
       "      <td>41209</td>\n",
       "      <td>1907</td>\n",
       "      <td>5.0</td>\n",
       "      <td>2009-12-25 17:18:29</td>\n",
       "    </tr>\n",
       "    <tr>\n",
       "      <th>3492275</th>\n",
       "      <td>23811</td>\n",
       "      <td>5151</td>\n",
       "      <td>3.5</td>\n",
       "      <td>2005-12-14 20:39:57</td>\n",
       "    </tr>\n",
       "    <tr>\n",
       "      <th>9364260</th>\n",
       "      <td>64788</td>\n",
       "      <td>1258</td>\n",
       "      <td>4.0</td>\n",
       "      <td>2001-07-04 13:11:05</td>\n",
       "    </tr>\n",
       "  </tbody>\n",
       "</table>\n",
       "</div>"
      ],
      "text/plain": [
       "          userId  movieId  rating            timestamp\n",
       "10935670   75632     1617     3.0  2000-08-02 23:31:09\n",
       "2256521    15339     6378     4.0  2014-09-06 14:50:27\n",
       "5980454    41209     1907     5.0  2009-12-25 17:18:29\n",
       "3492275    23811     5151     3.5  2005-12-14 20:39:57\n",
       "9364260    64788     1258     4.0  2001-07-04 13:11:05"
      ]
     },
     "execution_count": 8,
     "metadata": {},
     "output_type": "execute_result"
    }
   ],
   "source": [
    "ratings.head()"
   ]
  },
  {
   "cell_type": "code",
   "execution_count": 9,
   "metadata": {},
   "outputs": [
    {
     "data": {
      "text/html": [
       "<div>\n",
       "<style scoped>\n",
       "    .dataframe tbody tr th:only-of-type {\n",
       "        vertical-align: middle;\n",
       "    }\n",
       "\n",
       "    .dataframe tbody tr th {\n",
       "        vertical-align: top;\n",
       "    }\n",
       "\n",
       "    .dataframe thead th {\n",
       "        text-align: right;\n",
       "    }\n",
       "</style>\n",
       "<table border=\"1\" class=\"dataframe\">\n",
       "  <thead>\n",
       "    <tr style=\"text-align: right;\">\n",
       "      <th></th>\n",
       "      <th>movieId</th>\n",
       "      <th>title</th>\n",
       "      <th>genres</th>\n",
       "    </tr>\n",
       "  </thead>\n",
       "  <tbody>\n",
       "    <tr>\n",
       "      <th>0</th>\n",
       "      <td>1</td>\n",
       "      <td>Toy Story (1995)</td>\n",
       "      <td>Adventure|Animation|Children|Comedy|Fantasy</td>\n",
       "    </tr>\n",
       "    <tr>\n",
       "      <th>1</th>\n",
       "      <td>2</td>\n",
       "      <td>Jumanji (1995)</td>\n",
       "      <td>Adventure|Children|Fantasy</td>\n",
       "    </tr>\n",
       "    <tr>\n",
       "      <th>2</th>\n",
       "      <td>3</td>\n",
       "      <td>Grumpier Old Men (1995)</td>\n",
       "      <td>Comedy|Romance</td>\n",
       "    </tr>\n",
       "    <tr>\n",
       "      <th>3</th>\n",
       "      <td>4</td>\n",
       "      <td>Waiting to Exhale (1995)</td>\n",
       "      <td>Comedy|Drama|Romance</td>\n",
       "    </tr>\n",
       "    <tr>\n",
       "      <th>4</th>\n",
       "      <td>5</td>\n",
       "      <td>Father of the Bride Part II (1995)</td>\n",
       "      <td>Comedy</td>\n",
       "    </tr>\n",
       "  </tbody>\n",
       "</table>\n",
       "</div>"
      ],
      "text/plain": [
       "   movieId                               title  \\\n",
       "0        1                    Toy Story (1995)   \n",
       "1        2                      Jumanji (1995)   \n",
       "2        3             Grumpier Old Men (1995)   \n",
       "3        4            Waiting to Exhale (1995)   \n",
       "4        5  Father of the Bride Part II (1995)   \n",
       "\n",
       "                                        genres  \n",
       "0  Adventure|Animation|Children|Comedy|Fantasy  \n",
       "1                   Adventure|Children|Fantasy  \n",
       "2                               Comedy|Romance  \n",
       "3                         Comedy|Drama|Romance  \n",
       "4                                       Comedy  "
      ]
     },
     "execution_count": 9,
     "metadata": {},
     "output_type": "execute_result"
    }
   ],
   "source": [
    "movie.head()"
   ]
  },
  {
   "cell_type": "code",
   "execution_count": 10,
   "metadata": {},
   "outputs": [],
   "source": [
    "#drop timestamp in ratings as it's not useful for our prediction\n",
    "ratings = ratings.drop(['timestamp'],axis = 1)"
   ]
  },
  {
   "cell_type": "code",
   "execution_count": 11,
   "metadata": {},
   "outputs": [
    {
     "data": {
      "text/html": [
       "<div>\n",
       "<style scoped>\n",
       "    .dataframe tbody tr th:only-of-type {\n",
       "        vertical-align: middle;\n",
       "    }\n",
       "\n",
       "    .dataframe tbody tr th {\n",
       "        vertical-align: top;\n",
       "    }\n",
       "\n",
       "    .dataframe thead th {\n",
       "        text-align: right;\n",
       "    }\n",
       "</style>\n",
       "<table border=\"1\" class=\"dataframe\">\n",
       "  <thead>\n",
       "    <tr style=\"text-align: right;\">\n",
       "      <th></th>\n",
       "      <th>userId</th>\n",
       "      <th>movieId</th>\n",
       "      <th>rating</th>\n",
       "    </tr>\n",
       "  </thead>\n",
       "  <tbody>\n",
       "    <tr>\n",
       "      <th>10935670</th>\n",
       "      <td>75632</td>\n",
       "      <td>1617</td>\n",
       "      <td>3.0</td>\n",
       "    </tr>\n",
       "    <tr>\n",
       "      <th>2256521</th>\n",
       "      <td>15339</td>\n",
       "      <td>6378</td>\n",
       "      <td>4.0</td>\n",
       "    </tr>\n",
       "    <tr>\n",
       "      <th>5980454</th>\n",
       "      <td>41209</td>\n",
       "      <td>1907</td>\n",
       "      <td>5.0</td>\n",
       "    </tr>\n",
       "    <tr>\n",
       "      <th>3492275</th>\n",
       "      <td>23811</td>\n",
       "      <td>5151</td>\n",
       "      <td>3.5</td>\n",
       "    </tr>\n",
       "    <tr>\n",
       "      <th>9364260</th>\n",
       "      <td>64788</td>\n",
       "      <td>1258</td>\n",
       "      <td>4.0</td>\n",
       "    </tr>\n",
       "  </tbody>\n",
       "</table>\n",
       "</div>"
      ],
      "text/plain": [
       "          userId  movieId  rating\n",
       "10935670   75632     1617     3.0\n",
       "2256521    15339     6378     4.0\n",
       "5980454    41209     1907     5.0\n",
       "3492275    23811     5151     3.5\n",
       "9364260    64788     1258     4.0"
      ]
     },
     "execution_count": 11,
     "metadata": {},
     "output_type": "execute_result"
    }
   ],
   "source": [
    "ratings.head()"
   ]
  },
  {
   "cell_type": "code",
   "execution_count": 58,
   "metadata": {},
   "outputs": [],
   "source": [
    "#merge dataset\n",
    "df = pd.merge(ratings,tags,how='inner')"
   ]
  },
  {
   "cell_type": "code",
   "execution_count": 59,
   "metadata": {},
   "outputs": [
    {
     "name": "stdout",
     "output_type": "stream",
     "text": [
      "Shape of the joint data is (15349, 5)\n",
      "   userId  movieId  rating                        tag            timestamp\n",
      "0    7729     5349     4.5                 Comic book  2006-04-02 03:41:03\n",
      "1    6233   112852     2.0  underdeveloped characters  2014-08-19 19:25:51\n",
      "2   93414    99728     3.5                 Emma Stone  2014-07-16 02:24:50\n",
      "3    2702     4776     4.5                 corruption  2013-09-07 13:47:11\n",
      "4   22377    91094     2.5                    musical  2013-07-24 04:17:27\n"
     ]
    }
   ],
   "source": [
    "print ('Shape of the joint data is',df.shape)\n",
    "print (df.head())"
   ]
  },
  {
   "cell_type": "code",
   "execution_count": 60,
   "metadata": {},
   "outputs": [
    {
     "name": "stdout",
     "output_type": "stream",
     "text": [
      "<class 'pandas.core.frame.DataFrame'>\n",
      "Int64Index: 15349 entries, 0 to 15348\n",
      "Data columns (total 5 columns):\n",
      "userId       15349 non-null int64\n",
      "movieId      15349 non-null int64\n",
      "rating       15349 non-null float64\n",
      "tag          15348 non-null object\n",
      "timestamp    15349 non-null object\n",
      "dtypes: float64(1), int64(2), object(2)\n",
      "memory usage: 719.5+ KB\n"
     ]
    }
   ],
   "source": [
    "df.info()"
   ]
  },
  {
   "cell_type": "markdown",
   "metadata": {},
   "source": [
    "## Data Cleaning"
   ]
  },
  {
   "cell_type": "code",
   "execution_count": 61,
   "metadata": {},
   "outputs": [
    {
     "name": "stdout",
     "output_type": "stream",
     "text": [
      "userId 2243\n",
      "movieId 4153\n",
      "rating 10\n",
      "tag 5251\n",
      "timestamp 14992\n"
     ]
    }
   ],
   "source": [
    "for col in df.columns:\n",
    "    print(col, df[col].nunique())"
   ]
  },
  {
   "cell_type": "code",
   "execution_count": 62,
   "metadata": {},
   "outputs": [
    {
     "data": {
      "text/plain": [
       "Text(0.5, 1.0, 'Movie rating distribution')"
      ]
     },
     "execution_count": 62,
     "metadata": {},
     "output_type": "execute_result"
    },
    {
     "data": {
      "image/png": "[encoded data removed]",
      "text/plain": [
       "<Figure size 432x288 with 1 Axes>"
      ]
     },
     "metadata": {},
     "output_type": "display_data"
    }
   ],
   "source": [
    "df['rating'].value_counts().plot(kind='bar')\n",
    "plt.title('Movie rating distribution')"
   ]
  },
  {
   "cell_type": "code",
   "execution_count": 63,
   "metadata": {},
   "outputs": [
    {
     "data": {
      "text/html": [
       "<div>\n",
       "<style scoped>\n",
       "    .dataframe tbody tr th:only-of-type {\n",
       "        vertical-align: middle;\n",
       "    }\n",
       "\n",
       "    .dataframe tbody tr th {\n",
       "        vertical-align: top;\n",
       "    }\n",
       "\n",
       "    .dataframe thead th {\n",
       "        text-align: right;\n",
       "    }\n",
       "</style>\n",
       "<table border=\"1\" class=\"dataframe\">\n",
       "  <thead>\n",
       "    <tr style=\"text-align: right;\">\n",
       "      <th></th>\n",
       "      <th>tag</th>\n",
       "      <th>mean</th>\n",
       "      <th>count</th>\n",
       "    </tr>\n",
       "  </thead>\n",
       "  <tbody>\n",
       "    <tr>\n",
       "      <th>0</th>\n",
       "      <td>(s)vcd</td>\n",
       "      <td>5.00</td>\n",
       "      <td>1</td>\n",
       "    </tr>\n",
       "    <tr>\n",
       "      <th>1</th>\n",
       "      <td>*Good* Musicals</td>\n",
       "      <td>4.25</td>\n",
       "      <td>2</td>\n",
       "    </tr>\n",
       "    <tr>\n",
       "      <th>2</th>\n",
       "      <td>007</td>\n",
       "      <td>3.62</td>\n",
       "      <td>4</td>\n",
       "    </tr>\n",
       "    <tr>\n",
       "      <th>3</th>\n",
       "      <td>06 Oscar Nominated Best Movie</td>\n",
       "      <td>2.50</td>\n",
       "      <td>1</td>\n",
       "    </tr>\n",
       "    <tr>\n",
       "      <th>4</th>\n",
       "      <td>1</td>\n",
       "      <td>2.00</td>\n",
       "      <td>2</td>\n",
       "    </tr>\n",
       "    <tr>\n",
       "      <th>5</th>\n",
       "      <td>10-2-2008</td>\n",
       "      <td>3.50</td>\n",
       "      <td>1</td>\n",
       "    </tr>\n",
       "    <tr>\n",
       "      <th>6</th>\n",
       "      <td>10.06.06</td>\n",
       "      <td>4.00</td>\n",
       "      <td>1</td>\n",
       "    </tr>\n",
       "    <tr>\n",
       "      <th>7</th>\n",
       "      <td>100 Essential Female Performances</td>\n",
       "      <td>4.25</td>\n",
       "      <td>2</td>\n",
       "    </tr>\n",
       "    <tr>\n",
       "      <th>8</th>\n",
       "      <td>100 Greatest Movies</td>\n",
       "      <td>4.17</td>\n",
       "      <td>3</td>\n",
       "    </tr>\n",
       "    <tr>\n",
       "      <th>9</th>\n",
       "      <td>1305</td>\n",
       "      <td>3.50</td>\n",
       "      <td>1</td>\n",
       "    </tr>\n",
       "  </tbody>\n",
       "</table>\n",
       "</div>"
      ],
      "text/plain": [
       "                                 tag  mean  count\n",
       "0                             (s)vcd  5.00      1\n",
       "1                    *Good* Musicals  4.25      2\n",
       "2                                007  3.62      4\n",
       "3      06 Oscar Nominated Best Movie  2.50      1\n",
       "4                                  1  2.00      2\n",
       "5                          10-2-2008  3.50      1\n",
       "6                           10.06.06  4.00      1\n",
       "7  100 Essential Female Performances  4.25      2\n",
       "8                100 Greatest Movies  4.17      3\n",
       "9                               1305  3.50      1"
      ]
     },
     "execution_count": 63,
     "metadata": {},
     "output_type": "execute_result"
    }
   ],
   "source": [
    "tag_rating = df['rating'].groupby(df['tag']).agg(['mean','count']).round(2).reset_index()\n",
    "tag_rating.head(10)"
   ]
  },
  {
   "cell_type": "code",
   "execution_count": 64,
   "metadata": {},
   "outputs": [],
   "source": [
    "#clean the text data, delete special characters and convert to lower case\n",
    "\n",
    "df['tag'] = df['tag'].apply(lambda x: str(x))\n",
    "df['tag'] = df['tag'].map(lambda x: re.sub(r'([^\\s\\w]|_)+', '', x))\n",
    "df['tag'] = df['tag'].str.lower()"
   ]
  },
  {
   "cell_type": "code",
   "execution_count": 65,
   "metadata": {},
   "outputs": [],
   "source": [
    "#relabel ratings and categorize them into two levels: high rating for rating>4 and low rating for rating<4\n",
    "\n",
    "df['rating'] = df['rating'].apply(lambda x: 1 if x < 4 else 0)"
   ]
  },
  {
   "cell_type": "code",
   "execution_count": 66,
   "metadata": {},
   "outputs": [],
   "source": [
    "# text processing\n",
    "\n",
    "tokenizer = Tokenizer()\n",
    "tokenizer.fit_on_texts(df['tag'])\n",
    "sequences = tokenizer.texts_to_sequences(df['tag'])\n",
    "\n",
    "word_index = tokenizer.word_index\n",
    "#print('Found %s unique tokens.' % len(word_index))\n",
    "\n",
    "#use pad_sequences to ensure that all sequences in a list have the same length\n",
    "pseq = pad_sequences(sequences)\n",
    "pdseq = pd.DataFrame(pseq)"
   ]
  },
  {
   "cell_type": "code",
   "execution_count": 67,
   "metadata": {},
   "outputs": [],
   "source": [
    "#Convert timestamp in seconds to datetime format\n",
    "\n",
    "#df['timestamp'] = df['timestamp'].apply(lambda x: datetime.datetime.fromtimestamp(x).strftime('%Y-%m-%d %H:%M:%S'))\n",
    "#df['timestamp'].astype('datetime64[ns]')"
   ]
  },
  {
   "cell_type": "code",
   "execution_count": 68,
   "metadata": {},
   "outputs": [
    {
     "name": "stdout",
     "output_type": "stream",
     "text": [
      "number of words in plot summary:  5106\n"
     ]
    }
   ],
   "source": [
    "\n",
    "vectorizer = CountVectorizer(stop_words='english',decode_error='ignore', analyzer='word')\n",
    "corpus = df['tag'].values\n",
    "word_vec = vectorizer.fit_transform(corpus.ravel())\n",
    "word_vec = word_vec.toarray()\n",
    "\n",
    "words = vectorizer.get_feature_names()\n",
    "print(\"number of words in plot summary: \", len(words))\n",
    "pdwordvec = pd.DataFrame(word_vec,columns=words)"
   ]
  },
  {
   "cell_type": "code",
   "execution_count": 69,
   "metadata": {},
   "outputs": [
    {
     "data": {
      "text/html": [
       "<div>\n",
       "<style scoped>\n",
       "    .dataframe tbody tr th:only-of-type {\n",
       "        vertical-align: middle;\n",
       "    }\n",
       "\n",
       "    .dataframe tbody tr th {\n",
       "        vertical-align: top;\n",
       "    }\n",
       "\n",
       "    .dataframe thead th {\n",
       "        text-align: right;\n",
       "    }\n",
       "</style>\n",
       "<table border=\"1\" class=\"dataframe\">\n",
       "  <thead>\n",
       "    <tr style=\"text-align: right;\">\n",
       "      <th></th>\n",
       "      <th>007</th>\n",
       "      <th>06</th>\n",
       "      <th>10</th>\n",
       "      <th>100</th>\n",
       "      <th>1000</th>\n",
       "      <th>100606</th>\n",
       "      <th>1022008</th>\n",
       "      <th>1305</th>\n",
       "      <th>16th</th>\n",
       "      <th>17th</th>\n",
       "      <th>...</th>\n",
       "      <th>zizeks</th>\n",
       "      <th>zoe</th>\n",
       "      <th>zombie</th>\n",
       "      <th>zombies</th>\n",
       "      <th>zooey</th>\n",
       "      <th>zucker</th>\n",
       "      <th>zwick</th>\n",
       "      <th>æra</th>\n",
       "      <th>økonomisk</th>\n",
       "      <th>øvrigt</th>\n",
       "    </tr>\n",
       "  </thead>\n",
       "  <tbody>\n",
       "    <tr>\n",
       "      <th>0</th>\n",
       "      <td>0</td>\n",
       "      <td>0</td>\n",
       "      <td>0</td>\n",
       "      <td>0</td>\n",
       "      <td>0</td>\n",
       "      <td>0</td>\n",
       "      <td>0</td>\n",
       "      <td>0</td>\n",
       "      <td>0</td>\n",
       "      <td>0</td>\n",
       "      <td>...</td>\n",
       "      <td>0</td>\n",
       "      <td>0</td>\n",
       "      <td>0</td>\n",
       "      <td>0</td>\n",
       "      <td>0</td>\n",
       "      <td>0</td>\n",
       "      <td>0</td>\n",
       "      <td>0</td>\n",
       "      <td>0</td>\n",
       "      <td>0</td>\n",
       "    </tr>\n",
       "    <tr>\n",
       "      <th>1</th>\n",
       "      <td>0</td>\n",
       "      <td>0</td>\n",
       "      <td>0</td>\n",
       "      <td>0</td>\n",
       "      <td>0</td>\n",
       "      <td>0</td>\n",
       "      <td>0</td>\n",
       "      <td>0</td>\n",
       "      <td>0</td>\n",
       "      <td>0</td>\n",
       "      <td>...</td>\n",
       "      <td>0</td>\n",
       "      <td>0</td>\n",
       "      <td>0</td>\n",
       "      <td>0</td>\n",
       "      <td>0</td>\n",
       "      <td>0</td>\n",
       "      <td>0</td>\n",
       "      <td>0</td>\n",
       "      <td>0</td>\n",
       "      <td>0</td>\n",
       "    </tr>\n",
       "    <tr>\n",
       "      <th>2</th>\n",
       "      <td>0</td>\n",
       "      <td>0</td>\n",
       "      <td>0</td>\n",
       "      <td>0</td>\n",
       "      <td>0</td>\n",
       "      <td>0</td>\n",
       "      <td>0</td>\n",
       "      <td>0</td>\n",
       "      <td>0</td>\n",
       "      <td>0</td>\n",
       "      <td>...</td>\n",
       "      <td>0</td>\n",
       "      <td>0</td>\n",
       "      <td>0</td>\n",
       "      <td>0</td>\n",
       "      <td>0</td>\n",
       "      <td>0</td>\n",
       "      <td>0</td>\n",
       "      <td>0</td>\n",
       "      <td>0</td>\n",
       "      <td>0</td>\n",
       "    </tr>\n",
       "    <tr>\n",
       "      <th>3</th>\n",
       "      <td>0</td>\n",
       "      <td>0</td>\n",
       "      <td>0</td>\n",
       "      <td>0</td>\n",
       "      <td>0</td>\n",
       "      <td>0</td>\n",
       "      <td>0</td>\n",
       "      <td>0</td>\n",
       "      <td>0</td>\n",
       "      <td>0</td>\n",
       "      <td>...</td>\n",
       "      <td>0</td>\n",
       "      <td>0</td>\n",
       "      <td>0</td>\n",
       "      <td>0</td>\n",
       "      <td>0</td>\n",
       "      <td>0</td>\n",
       "      <td>0</td>\n",
       "      <td>0</td>\n",
       "      <td>0</td>\n",
       "      <td>0</td>\n",
       "    </tr>\n",
       "    <tr>\n",
       "      <th>4</th>\n",
       "      <td>0</td>\n",
       "      <td>0</td>\n",
       "      <td>0</td>\n",
       "      <td>0</td>\n",
       "      <td>0</td>\n",
       "      <td>0</td>\n",
       "      <td>0</td>\n",
       "      <td>0</td>\n",
       "      <td>0</td>\n",
       "      <td>0</td>\n",
       "      <td>...</td>\n",
       "      <td>0</td>\n",
       "      <td>0</td>\n",
       "      <td>0</td>\n",
       "      <td>0</td>\n",
       "      <td>0</td>\n",
       "      <td>0</td>\n",
       "      <td>0</td>\n",
       "      <td>0</td>\n",
       "      <td>0</td>\n",
       "      <td>0</td>\n",
       "    </tr>\n",
       "  </tbody>\n",
       "</table>\n",
       "<p>5 rows × 5106 columns</p>\n",
       "</div>"
      ],
      "text/plain": [
       "   007  06  10  100  1000  100606  1022008  1305  16th  17th  ...  zizeks  \\\n",
       "0    0   0   0    0     0       0        0     0     0     0  ...       0   \n",
       "1    0   0   0    0     0       0        0     0     0     0  ...       0   \n",
       "2    0   0   0    0     0       0        0     0     0     0  ...       0   \n",
       "3    0   0   0    0     0       0        0     0     0     0  ...       0   \n",
       "4    0   0   0    0     0       0        0     0     0     0  ...       0   \n",
       "\n",
       "   zoe  zombie  zombies  zooey  zucker  zwick  æra  økonomisk  øvrigt  \n",
       "0    0       0        0      0       0      0    0          0       0  \n",
       "1    0       0        0      0       0      0    0          0       0  \n",
       "2    0       0        0      0       0      0    0          0       0  \n",
       "3    0       0        0      0       0      0    0          0       0  \n",
       "4    0       0        0      0       0      0    0          0       0  \n",
       "\n",
       "[5 rows x 5106 columns]"
      ]
     },
     "execution_count": 69,
     "metadata": {},
     "output_type": "execute_result"
    }
   ],
   "source": [
    "pdwordvec.head()"
   ]
  },
  {
   "cell_type": "code",
   "execution_count": 70,
   "metadata": {},
   "outputs": [
    {
     "data": {
      "text/plain": [
       "(15349, 5)"
      ]
     },
     "execution_count": 70,
     "metadata": {},
     "output_type": "execute_result"
    }
   ],
   "source": [
    "df.shape"
   ]
  },
  {
   "cell_type": "markdown",
   "metadata": {},
   "source": [
    "## K-means clustering words using GloVe embedding"
   ]
  },
  {
   "cell_type": "markdown",
   "metadata": {},
   "source": [
    "Decided to use the pre-trained model as I do not have sufficient data to create my own embedding given all tags."
   ]
  },
  {
   "cell_type": "code",
   "execution_count": 25,
   "metadata": {},
   "outputs": [],
   "source": [
    "embeddings_index = {}\n",
    "f = open('glove.6B.100d.txt')\n",
    "for line in f:\n",
    "    values = line.split()\n",
    "    word = values[0]\n",
    "    coefs = np.asarray(values[1:], dtype='float32')\n",
    "    embeddings_index[word] = coefs\n",
    "f.close()"
   ]
  },
  {
   "cell_type": "code",
   "execution_count": 26,
   "metadata": {},
   "outputs": [],
   "source": [
    "#Return a new array of given shape, filled with zeros.\n",
    "embedding_matrix = np.zeros((len(words), 100))\n",
    "\n",
    "for i in range(len(words)):\n",
    "    embedding_vector = embeddings_index.get(words[i])\n",
    "    if embedding_vector is not None:\n",
    "        # words not found in embedding index will be all-zeros.\n",
    "        embedding_matrix[i] = embedding_vector\n",
    "        \n",
    "pdembedding = pd.DataFrame(embedding_matrix.T,columns=words) #Same as self.transpose(), except that self is returned if self.ndim < 2."
   ]
  },
  {
   "cell_type": "markdown",
   "metadata": {},
   "source": [
    "### Prepare Data for Clustering"
   ]
  },
  {
   "cell_type": "code",
   "execution_count": 27,
   "metadata": {},
   "outputs": [],
   "source": [
    "#Cluster word embeddings data \n",
    "kmeans = KMeans(init='k-means++', n_clusters=300, n_init=10)\n",
    "kmeans.fit(pdembedding.T)\n",
    "\n",
    "#Get cluster labels\n",
    "clusters = kmeans.labels_\n",
    "\n",
    "#Add columns to data for each cluster\n",
    "for i in range(max(clusters)+1):\n",
    " df[i] = 0\n",
    "\n",
    "#If word is in data row, label the associated cluster accordingly with 1\n",
    "for i in range(len(pdwordvec.columns)):\n",
    "    column = pdwordvec.columns[i]\n",
    "    index = pdwordvec[column].loc[pdwordvec[column] > 0, ].index\n",
    "    for ii in range(len(index)):\n",
    "        df.loc[index[ii],clusters[i]] = 1"
   ]
  },
  {
   "cell_type": "code",
   "execution_count": 28,
   "metadata": {},
   "outputs": [
    {
     "data": {
      "text/plain": [
       "(15349, 305)"
      ]
     },
     "execution_count": 28,
     "metadata": {},
     "output_type": "execute_result"
    }
   ],
   "source": [
    "df.shape"
   ]
  },
  {
   "cell_type": "code",
   "execution_count": 29,
   "metadata": {},
   "outputs": [],
   "source": [
    "#drop tag column as we have vecterized words\n",
    "\n",
    "df = df.drop(['tag'],axis = 1)"
   ]
  },
  {
   "cell_type": "markdown",
   "metadata": {},
   "source": [
    "Include movie gerne in the model as it might be useful for prediction"
   ]
  },
  {
   "cell_type": "code",
   "execution_count": 30,
   "metadata": {},
   "outputs": [
    {
     "data": {
      "text/html": [
       "<div>\n",
       "<style scoped>\n",
       "    .dataframe tbody tr th:only-of-type {\n",
       "        vertical-align: middle;\n",
       "    }\n",
       "\n",
       "    .dataframe tbody tr th {\n",
       "        vertical-align: top;\n",
       "    }\n",
       "\n",
       "    .dataframe thead th {\n",
       "        text-align: right;\n",
       "    }\n",
       "</style>\n",
       "<table border=\"1\" class=\"dataframe\">\n",
       "  <thead>\n",
       "    <tr style=\"text-align: right;\">\n",
       "      <th></th>\n",
       "      <th>movieId</th>\n",
       "      <th>title</th>\n",
       "      <th>genres</th>\n",
       "    </tr>\n",
       "  </thead>\n",
       "  <tbody>\n",
       "    <tr>\n",
       "      <th>0</th>\n",
       "      <td>1</td>\n",
       "      <td>Toy Story (1995)</td>\n",
       "      <td>Adventure|Animation|Children|Comedy|Fantasy</td>\n",
       "    </tr>\n",
       "    <tr>\n",
       "      <th>1</th>\n",
       "      <td>2</td>\n",
       "      <td>Jumanji (1995)</td>\n",
       "      <td>Adventure|Children|Fantasy</td>\n",
       "    </tr>\n",
       "    <tr>\n",
       "      <th>2</th>\n",
       "      <td>3</td>\n",
       "      <td>Grumpier Old Men (1995)</td>\n",
       "      <td>Comedy|Romance</td>\n",
       "    </tr>\n",
       "    <tr>\n",
       "      <th>3</th>\n",
       "      <td>4</td>\n",
       "      <td>Waiting to Exhale (1995)</td>\n",
       "      <td>Comedy|Drama|Romance</td>\n",
       "    </tr>\n",
       "    <tr>\n",
       "      <th>4</th>\n",
       "      <td>5</td>\n",
       "      <td>Father of the Bride Part II (1995)</td>\n",
       "      <td>Comedy</td>\n",
       "    </tr>\n",
       "  </tbody>\n",
       "</table>\n",
       "</div>"
      ],
      "text/plain": [
       "   movieId                               title  \\\n",
       "0        1                    Toy Story (1995)   \n",
       "1        2                      Jumanji (1995)   \n",
       "2        3             Grumpier Old Men (1995)   \n",
       "3        4            Waiting to Exhale (1995)   \n",
       "4        5  Father of the Bride Part II (1995)   \n",
       "\n",
       "                                        genres  \n",
       "0  Adventure|Animation|Children|Comedy|Fantasy  \n",
       "1                   Adventure|Children|Fantasy  \n",
       "2                               Comedy|Romance  \n",
       "3                         Comedy|Drama|Romance  \n",
       "4                                       Comedy  "
      ]
     },
     "execution_count": 30,
     "metadata": {},
     "output_type": "execute_result"
    }
   ],
   "source": [
    "movie.head()"
   ]
  },
  {
   "cell_type": "code",
   "execution_count": 31,
   "metadata": {},
   "outputs": [],
   "source": [
    "#split the genre column in movie data\n",
    "genre_list = movie.set_index('movieId').genres.str.split(r'|', expand=True).stack().reset_index(level=1,drop=True).to_frame('genre')"
   ]
  },
  {
   "cell_type": "code",
   "execution_count": 32,
   "metadata": {},
   "outputs": [
    {
     "data": {
      "text/html": [
       "<div>\n",
       "<style scoped>\n",
       "    .dataframe tbody tr th:only-of-type {\n",
       "        vertical-align: middle;\n",
       "    }\n",
       "\n",
       "    .dataframe tbody tr th {\n",
       "        vertical-align: top;\n",
       "    }\n",
       "\n",
       "    .dataframe thead th {\n",
       "        text-align: right;\n",
       "    }\n",
       "</style>\n",
       "<table border=\"1\" class=\"dataframe\">\n",
       "  <thead>\n",
       "    <tr style=\"text-align: right;\">\n",
       "      <th></th>\n",
       "      <th>genre</th>\n",
       "    </tr>\n",
       "    <tr>\n",
       "      <th>movieId</th>\n",
       "      <th></th>\n",
       "    </tr>\n",
       "  </thead>\n",
       "  <tbody>\n",
       "    <tr>\n",
       "      <th>1</th>\n",
       "      <td>Adventure</td>\n",
       "    </tr>\n",
       "    <tr>\n",
       "      <th>1</th>\n",
       "      <td>Animation</td>\n",
       "    </tr>\n",
       "    <tr>\n",
       "      <th>1</th>\n",
       "      <td>Children</td>\n",
       "    </tr>\n",
       "    <tr>\n",
       "      <th>1</th>\n",
       "      <td>Comedy</td>\n",
       "    </tr>\n",
       "    <tr>\n",
       "      <th>1</th>\n",
       "      <td>Fantasy</td>\n",
       "    </tr>\n",
       "  </tbody>\n",
       "</table>\n",
       "</div>"
      ],
      "text/plain": [
       "             genre\n",
       "movieId           \n",
       "1        Adventure\n",
       "1        Animation\n",
       "1         Children\n",
       "1           Comedy\n",
       "1          Fantasy"
      ]
     },
     "execution_count": 32,
     "metadata": {},
     "output_type": "execute_result"
    }
   ],
   "source": [
    "genre_list.head()"
   ]
  },
  {
   "cell_type": "code",
   "execution_count": 33,
   "metadata": {},
   "outputs": [
    {
     "data": {
      "text/html": [
       "<div>\n",
       "<style scoped>\n",
       "    .dataframe tbody tr th:only-of-type {\n",
       "        vertical-align: middle;\n",
       "    }\n",
       "\n",
       "    .dataframe tbody tr th {\n",
       "        vertical-align: top;\n",
       "    }\n",
       "\n",
       "    .dataframe thead th {\n",
       "        text-align: right;\n",
       "    }\n",
       "</style>\n",
       "<table border=\"1\" class=\"dataframe\">\n",
       "  <thead>\n",
       "    <tr style=\"text-align: right;\">\n",
       "      <th></th>\n",
       "      <th>genre_(no genres listed)</th>\n",
       "      <th>genre_Action</th>\n",
       "      <th>genre_Adventure</th>\n",
       "      <th>genre_Animation</th>\n",
       "      <th>genre_Children</th>\n",
       "      <th>genre_Comedy</th>\n",
       "      <th>genre_Crime</th>\n",
       "      <th>genre_Documentary</th>\n",
       "      <th>genre_Drama</th>\n",
       "      <th>genre_Fantasy</th>\n",
       "      <th>genre_Film-Noir</th>\n",
       "      <th>genre_Horror</th>\n",
       "      <th>genre_IMAX</th>\n",
       "      <th>genre_Musical</th>\n",
       "      <th>genre_Mystery</th>\n",
       "      <th>genre_Romance</th>\n",
       "      <th>genre_Sci-Fi</th>\n",
       "      <th>genre_Thriller</th>\n",
       "      <th>genre_War</th>\n",
       "      <th>genre_Western</th>\n",
       "    </tr>\n",
       "    <tr>\n",
       "      <th>movieId</th>\n",
       "      <th></th>\n",
       "      <th></th>\n",
       "      <th></th>\n",
       "      <th></th>\n",
       "      <th></th>\n",
       "      <th></th>\n",
       "      <th></th>\n",
       "      <th></th>\n",
       "      <th></th>\n",
       "      <th></th>\n",
       "      <th></th>\n",
       "      <th></th>\n",
       "      <th></th>\n",
       "      <th></th>\n",
       "      <th></th>\n",
       "      <th></th>\n",
       "      <th></th>\n",
       "      <th></th>\n",
       "      <th></th>\n",
       "      <th></th>\n",
       "    </tr>\n",
       "  </thead>\n",
       "  <tbody>\n",
       "    <tr>\n",
       "      <th>1</th>\n",
       "      <td>0</td>\n",
       "      <td>0</td>\n",
       "      <td>1</td>\n",
       "      <td>1</td>\n",
       "      <td>1</td>\n",
       "      <td>1</td>\n",
       "      <td>0</td>\n",
       "      <td>0</td>\n",
       "      <td>0</td>\n",
       "      <td>1</td>\n",
       "      <td>0</td>\n",
       "      <td>0</td>\n",
       "      <td>0</td>\n",
       "      <td>0</td>\n",
       "      <td>0</td>\n",
       "      <td>0</td>\n",
       "      <td>0</td>\n",
       "      <td>0</td>\n",
       "      <td>0</td>\n",
       "      <td>0</td>\n",
       "    </tr>\n",
       "    <tr>\n",
       "      <th>2</th>\n",
       "      <td>0</td>\n",
       "      <td>0</td>\n",
       "      <td>1</td>\n",
       "      <td>0</td>\n",
       "      <td>1</td>\n",
       "      <td>0</td>\n",
       "      <td>0</td>\n",
       "      <td>0</td>\n",
       "      <td>0</td>\n",
       "      <td>1</td>\n",
       "      <td>0</td>\n",
       "      <td>0</td>\n",
       "      <td>0</td>\n",
       "      <td>0</td>\n",
       "      <td>0</td>\n",
       "      <td>0</td>\n",
       "      <td>0</td>\n",
       "      <td>0</td>\n",
       "      <td>0</td>\n",
       "      <td>0</td>\n",
       "    </tr>\n",
       "    <tr>\n",
       "      <th>3</th>\n",
       "      <td>0</td>\n",
       "      <td>0</td>\n",
       "      <td>0</td>\n",
       "      <td>0</td>\n",
       "      <td>0</td>\n",
       "      <td>1</td>\n",
       "      <td>0</td>\n",
       "      <td>0</td>\n",
       "      <td>0</td>\n",
       "      <td>0</td>\n",
       "      <td>0</td>\n",
       "      <td>0</td>\n",
       "      <td>0</td>\n",
       "      <td>0</td>\n",
       "      <td>0</td>\n",
       "      <td>1</td>\n",
       "      <td>0</td>\n",
       "      <td>0</td>\n",
       "      <td>0</td>\n",
       "      <td>0</td>\n",
       "    </tr>\n",
       "    <tr>\n",
       "      <th>4</th>\n",
       "      <td>0</td>\n",
       "      <td>0</td>\n",
       "      <td>0</td>\n",
       "      <td>0</td>\n",
       "      <td>0</td>\n",
       "      <td>1</td>\n",
       "      <td>0</td>\n",
       "      <td>0</td>\n",
       "      <td>1</td>\n",
       "      <td>0</td>\n",
       "      <td>0</td>\n",
       "      <td>0</td>\n",
       "      <td>0</td>\n",
       "      <td>0</td>\n",
       "      <td>0</td>\n",
       "      <td>1</td>\n",
       "      <td>0</td>\n",
       "      <td>0</td>\n",
       "      <td>0</td>\n",
       "      <td>0</td>\n",
       "    </tr>\n",
       "    <tr>\n",
       "      <th>5</th>\n",
       "      <td>0</td>\n",
       "      <td>0</td>\n",
       "      <td>0</td>\n",
       "      <td>0</td>\n",
       "      <td>0</td>\n",
       "      <td>1</td>\n",
       "      <td>0</td>\n",
       "      <td>0</td>\n",
       "      <td>0</td>\n",
       "      <td>0</td>\n",
       "      <td>0</td>\n",
       "      <td>0</td>\n",
       "      <td>0</td>\n",
       "      <td>0</td>\n",
       "      <td>0</td>\n",
       "      <td>0</td>\n",
       "      <td>0</td>\n",
       "      <td>0</td>\n",
       "      <td>0</td>\n",
       "      <td>0</td>\n",
       "    </tr>\n",
       "  </tbody>\n",
       "</table>\n",
       "</div>"
      ],
      "text/plain": [
       "         genre_(no genres listed)  genre_Action  genre_Adventure  \\\n",
       "movieId                                                            \n",
       "1                               0             0                1   \n",
       "2                               0             0                1   \n",
       "3                               0             0                0   \n",
       "4                               0             0                0   \n",
       "5                               0             0                0   \n",
       "\n",
       "         genre_Animation  genre_Children  genre_Comedy  genre_Crime  \\\n",
       "movieId                                                               \n",
       "1                      1               1             1            0   \n",
       "2                      0               1             0            0   \n",
       "3                      0               0             1            0   \n",
       "4                      0               0             1            0   \n",
       "5                      0               0             1            0   \n",
       "\n",
       "         genre_Documentary  genre_Drama  genre_Fantasy  genre_Film-Noir  \\\n",
       "movieId                                                                   \n",
       "1                        0            0              1                0   \n",
       "2                        0            0              1                0   \n",
       "3                        0            0              0                0   \n",
       "4                        0            1              0                0   \n",
       "5                        0            0              0                0   \n",
       "\n",
       "         genre_Horror  genre_IMAX  genre_Musical  genre_Mystery  \\\n",
       "movieId                                                           \n",
       "1                   0           0              0              0   \n",
       "2                   0           0              0              0   \n",
       "3                   0           0              0              0   \n",
       "4                   0           0              0              0   \n",
       "5                   0           0              0              0   \n",
       "\n",
       "         genre_Romance  genre_Sci-Fi  genre_Thriller  genre_War  genre_Western  \n",
       "movieId                                                                         \n",
       "1                    0             0               0          0              0  \n",
       "2                    0             0               0          0              0  \n",
       "3                    1             0               0          0              0  \n",
       "4                    1             0               0          0              0  \n",
       "5                    0             0               0          0              0  "
      ]
     },
     "execution_count": 33,
     "metadata": {},
     "output_type": "execute_result"
    }
   ],
   "source": [
    "#Use one-hot encoding grouped by genre \n",
    "genres = pd.get_dummies(genre_list, prefix='genre', columns=['genre']).groupby(level=0).sum()\n",
    "genres.head()"
   ]
  },
  {
   "cell_type": "code",
   "execution_count": 34,
   "metadata": {},
   "outputs": [],
   "source": [
    "#Drop unnecessary field, if all genres are 0 then it means no genres are listed. \n",
    "genres = genres.drop(['genre_(no genres listed)'], axis=1)"
   ]
  },
  {
   "cell_type": "code",
   "execution_count": 35,
   "metadata": {},
   "outputs": [],
   "source": [
    "#Joın data by movieId\n",
    "#genres['movieId'] = genres.index\n",
    "df = pd.merge(df, genres, on='movieId', how='left')"
   ]
  },
  {
   "cell_type": "code",
   "execution_count": 36,
   "metadata": {},
   "outputs": [],
   "source": [
    "#Assign variables as categorical using one hot encoding\n",
    "userid_encoding = pd.get_dummies(df['userId'],prefix='userid')\n",
    "df = df.drop(['userId'], axis=1)\n",
    "df = pd.concat([df, userid_encoding], axis=1)\n",
    "\n",
    "movieid_encoding = pd.get_dummies(df['movieId'],prefix='movieid')\n",
    "df = df.drop(['movieId'], axis=1)\n",
    "df = pd.concat([df, movieid_encoding], axis=1)"
   ]
  },
  {
   "cell_type": "code",
   "execution_count": 37,
   "metadata": {},
   "outputs": [
    {
     "data": {
      "text/html": [
       "<div>\n",
       "<style scoped>\n",
       "    .dataframe tbody tr th:only-of-type {\n",
       "        vertical-align: middle;\n",
       "    }\n",
       "\n",
       "    .dataframe tbody tr th {\n",
       "        vertical-align: top;\n",
       "    }\n",
       "\n",
       "    .dataframe thead th {\n",
       "        text-align: right;\n",
       "    }\n",
       "</style>\n",
       "<table border=\"1\" class=\"dataframe\">\n",
       "  <thead>\n",
       "    <tr style=\"text-align: right;\">\n",
       "      <th></th>\n",
       "      <th>rating</th>\n",
       "      <th>timestamp</th>\n",
       "      <th>0</th>\n",
       "      <th>1</th>\n",
       "      <th>2</th>\n",
       "      <th>3</th>\n",
       "      <th>4</th>\n",
       "      <th>5</th>\n",
       "      <th>6</th>\n",
       "      <th>7</th>\n",
       "      <th>...</th>\n",
       "      <th>movieid_125535</th>\n",
       "      <th>movieid_125786</th>\n",
       "      <th>movieid_126591</th>\n",
       "      <th>movieid_128721</th>\n",
       "      <th>movieid_128989</th>\n",
       "      <th>movieid_129235</th>\n",
       "      <th>movieid_129857</th>\n",
       "      <th>movieid_130071</th>\n",
       "      <th>movieid_130073</th>\n",
       "      <th>movieid_130856</th>\n",
       "    </tr>\n",
       "  </thead>\n",
       "  <tbody>\n",
       "    <tr>\n",
       "      <th>0</th>\n",
       "      <td>0</td>\n",
       "      <td>2006-04-02 03:41:03</td>\n",
       "      <td>0</td>\n",
       "      <td>0</td>\n",
       "      <td>0</td>\n",
       "      <td>0</td>\n",
       "      <td>0</td>\n",
       "      <td>0</td>\n",
       "      <td>0</td>\n",
       "      <td>0</td>\n",
       "      <td>...</td>\n",
       "      <td>0</td>\n",
       "      <td>0</td>\n",
       "      <td>0</td>\n",
       "      <td>0</td>\n",
       "      <td>0</td>\n",
       "      <td>0</td>\n",
       "      <td>0</td>\n",
       "      <td>0</td>\n",
       "      <td>0</td>\n",
       "      <td>0</td>\n",
       "    </tr>\n",
       "    <tr>\n",
       "      <th>1</th>\n",
       "      <td>1</td>\n",
       "      <td>2014-08-19 19:25:51</td>\n",
       "      <td>0</td>\n",
       "      <td>0</td>\n",
       "      <td>0</td>\n",
       "      <td>0</td>\n",
       "      <td>0</td>\n",
       "      <td>0</td>\n",
       "      <td>0</td>\n",
       "      <td>0</td>\n",
       "      <td>...</td>\n",
       "      <td>0</td>\n",
       "      <td>0</td>\n",
       "      <td>0</td>\n",
       "      <td>0</td>\n",
       "      <td>0</td>\n",
       "      <td>0</td>\n",
       "      <td>0</td>\n",
       "      <td>0</td>\n",
       "      <td>0</td>\n",
       "      <td>0</td>\n",
       "    </tr>\n",
       "    <tr>\n",
       "      <th>2</th>\n",
       "      <td>1</td>\n",
       "      <td>2014-07-16 02:24:50</td>\n",
       "      <td>0</td>\n",
       "      <td>0</td>\n",
       "      <td>0</td>\n",
       "      <td>0</td>\n",
       "      <td>0</td>\n",
       "      <td>0</td>\n",
       "      <td>0</td>\n",
       "      <td>0</td>\n",
       "      <td>...</td>\n",
       "      <td>0</td>\n",
       "      <td>0</td>\n",
       "      <td>0</td>\n",
       "      <td>0</td>\n",
       "      <td>0</td>\n",
       "      <td>0</td>\n",
       "      <td>0</td>\n",
       "      <td>0</td>\n",
       "      <td>0</td>\n",
       "      <td>0</td>\n",
       "    </tr>\n",
       "    <tr>\n",
       "      <th>3</th>\n",
       "      <td>0</td>\n",
       "      <td>2013-09-07 13:47:11</td>\n",
       "      <td>0</td>\n",
       "      <td>0</td>\n",
       "      <td>0</td>\n",
       "      <td>0</td>\n",
       "      <td>0</td>\n",
       "      <td>0</td>\n",
       "      <td>0</td>\n",
       "      <td>0</td>\n",
       "      <td>...</td>\n",
       "      <td>0</td>\n",
       "      <td>0</td>\n",
       "      <td>0</td>\n",
       "      <td>0</td>\n",
       "      <td>0</td>\n",
       "      <td>0</td>\n",
       "      <td>0</td>\n",
       "      <td>0</td>\n",
       "      <td>0</td>\n",
       "      <td>0</td>\n",
       "    </tr>\n",
       "    <tr>\n",
       "      <th>4</th>\n",
       "      <td>1</td>\n",
       "      <td>2013-07-24 04:17:27</td>\n",
       "      <td>0</td>\n",
       "      <td>0</td>\n",
       "      <td>0</td>\n",
       "      <td>0</td>\n",
       "      <td>0</td>\n",
       "      <td>0</td>\n",
       "      <td>0</td>\n",
       "      <td>0</td>\n",
       "      <td>...</td>\n",
       "      <td>0</td>\n",
       "      <td>0</td>\n",
       "      <td>0</td>\n",
       "      <td>0</td>\n",
       "      <td>0</td>\n",
       "      <td>0</td>\n",
       "      <td>0</td>\n",
       "      <td>0</td>\n",
       "      <td>0</td>\n",
       "      <td>0</td>\n",
       "    </tr>\n",
       "  </tbody>\n",
       "</table>\n",
       "<p>5 rows × 6717 columns</p>\n",
       "</div>"
      ],
      "text/plain": [
       "   rating            timestamp  0  1  2  3  4  5  6  7  ...  movieid_125535  \\\n",
       "0       0  2006-04-02 03:41:03  0  0  0  0  0  0  0  0  ...               0   \n",
       "1       1  2014-08-19 19:25:51  0  0  0  0  0  0  0  0  ...               0   \n",
       "2       1  2014-07-16 02:24:50  0  0  0  0  0  0  0  0  ...               0   \n",
       "3       0  2013-09-07 13:47:11  0  0  0  0  0  0  0  0  ...               0   \n",
       "4       1  2013-07-24 04:17:27  0  0  0  0  0  0  0  0  ...               0   \n",
       "\n",
       "   movieid_125786  movieid_126591  movieid_128721  movieid_128989  \\\n",
       "0               0               0               0               0   \n",
       "1               0               0               0               0   \n",
       "2               0               0               0               0   \n",
       "3               0               0               0               0   \n",
       "4               0               0               0               0   \n",
       "\n",
       "   movieid_129235  movieid_129857  movieid_130071  movieid_130073  \\\n",
       "0               0               0               0               0   \n",
       "1               0               0               0               0   \n",
       "2               0               0               0               0   \n",
       "3               0               0               0               0   \n",
       "4               0               0               0               0   \n",
       "\n",
       "   movieid_130856  \n",
       "0               0  \n",
       "1               0  \n",
       "2               0  \n",
       "3               0  \n",
       "4               0  \n",
       "\n",
       "[5 rows x 6717 columns]"
      ]
     },
     "execution_count": 37,
     "metadata": {},
     "output_type": "execute_result"
    }
   ],
   "source": [
    "df.head()"
   ]
  },
  {
   "cell_type": "code",
   "execution_count": 38,
   "metadata": {},
   "outputs": [],
   "source": [
    "#fill NAs\n",
    "df = df.fillna(np.nan)"
   ]
  },
  {
   "cell_type": "markdown",
   "metadata": {},
   "source": [
    "## Machine Learning Models"
   ]
  },
  {
   "cell_type": "code",
   "execution_count": 39,
   "metadata": {},
   "outputs": [],
   "source": [
    "#seperate test and train data, use the last 12-month for testing\n",
    "\n",
    "train = df[(df['timestamp'] < '2014-03-30') ]\n",
    "test = df[(df['timestamp'] >= '2014-03-30') ]"
   ]
  },
  {
   "cell_type": "code",
   "execution_count": 40,
   "metadata": {},
   "outputs": [
    {
     "name": "stdout",
     "output_type": "stream",
     "text": [
      "Number of rows in test data set: 1937\n",
      "Number of rows in training data set: 13412\n"
     ]
    }
   ],
   "source": [
    "print (\"Number of rows in test data set:\", (len(test)))\n",
    "print (\"Number of rows in training data set:\",(len(train)))"
   ]
  },
  {
   "cell_type": "code",
   "execution_count": 41,
   "metadata": {},
   "outputs": [],
   "source": [
    "#remove timestamp as it won't be needed for modeling\n",
    "train = train.drop(['timestamp'], axis=1)\n",
    "test = test.drop(['timestamp'], axis=1)"
   ]
  },
  {
   "cell_type": "code",
   "execution_count": 42,
   "metadata": {},
   "outputs": [],
   "source": [
    "#Define target and predictor variables\n",
    "y_train = train['rating']\n",
    "y_test = test['rating']\n",
    "x_train = train.drop(['rating'], axis=1)\n",
    "x_test = test.drop(['rating'], axis=1)"
   ]
  },
  {
   "cell_type": "markdown",
   "metadata": {},
   "source": [
    "### 1. Baseline model"
   ]
  },
  {
   "cell_type": "code",
   "execution_count": 43,
   "metadata": {},
   "outputs": [
    {
     "name": "stdout",
     "output_type": "stream",
     "text": [
      "Accuracy of the baseline model is:  0.62\n"
     ]
    }
   ],
   "source": [
    "#build the baseline model\n",
    "#classification problem, you can select the class that has the most observations and use that class as the result for all predictions\n",
    "\n",
    "baseline_accuracy = float(y_test.value_counts().max())/y_test.value_counts().sum()\n",
    "print (\"Accuracy of the baseline model is: \", np.round(baseline_accuracy,2))"
   ]
  },
  {
   "cell_type": "markdown",
   "metadata": {},
   "source": [
    "### 2. Logistic regression"
   ]
  },
  {
   "cell_type": "code",
   "execution_count": 44,
   "metadata": {},
   "outputs": [
    {
     "name": "stderr",
     "output_type": "stream",
     "text": [
      "/anaconda3/lib/python3.6/site-packages/sklearn/linear_model/logistic.py:433: FutureWarning: Default solver will be changed to 'lbfgs' in 0.22. Specify a solver to silence this warning.\n",
      "  FutureWarning)\n"
     ]
    },
    {
     "name": "stdout",
     "output_type": "stream",
     "text": [
      "Accuracy of the test set for log. reg. is:  0.68\n"
     ]
    }
   ],
   "source": [
    "# logistic regression\n",
    "\n",
    "logreg = LogReg(C = 1, class_weight='balanced')\n",
    "logreg.fit (x_train, y_train)\n",
    "y_predlog = logreg.predict_proba(x_test)\n",
    "R2_log = logreg.score(x_test,y_test) \n",
    "print (\"Accuracy of the test set for log. reg. is: \", np.round(R2_log,2))"
   ]
  },
  {
   "cell_type": "markdown",
   "metadata": {},
   "source": [
    "### 3. Random forest"
   ]
  },
  {
   "cell_type": "code",
   "execution_count": 45,
   "metadata": {},
   "outputs": [
    {
     "data": {
      "text/plain": [
       "RandomForestClassifier(bootstrap=True, class_weight='balanced',\n",
       "            criterion='gini', max_depth=None, max_features='auto',\n",
       "            max_leaf_nodes=None, min_impurity_decrease=0.0,\n",
       "            min_impurity_split=None, min_samples_leaf=1,\n",
       "            min_samples_split=2, min_weight_fraction_leaf=0.0,\n",
       "            n_estimators=100, n_jobs=None, oob_score=False,\n",
       "            random_state=None, verbose=0, warm_start=False)"
      ]
     },
     "execution_count": 45,
     "metadata": {},
     "output_type": "execute_result"
    }
   ],
   "source": [
    "# Random forest\n",
    "\n",
    "rfc = RandomForestClassifier(class_weight='balanced')#address the imbalanced in target variable\n",
    "rfc.set_params(n_estimators=100)\n",
    "rfc.fit(x_train,y_train)"
   ]
  },
  {
   "cell_type": "code",
   "execution_count": 46,
   "metadata": {},
   "outputs": [
    {
     "name": "stdout",
     "output_type": "stream",
     "text": [
      "Accuracy of the test set for random forest is:  0.69\n"
     ]
    }
   ],
   "source": [
    "R2_rfc = rfc.score(x_test,y_test) \n",
    "print (\"Accuracy of the test set for random forest is: \", np.round(R2_rfc,2))"
   ]
  },
  {
   "cell_type": "code",
   "execution_count": 47,
   "metadata": {},
   "outputs": [],
   "source": [
    "#plot the feature accuracy\n",
    "\n",
    "rfc_plot = pd.DataFrame({'features': x_train.columns,\n",
    "                        'importances': rfc.feature_importances_})\n",
    "rfc_plot = rfc_plot.sort_values('importances', ascending=False)[:20]"
   ]
  },
  {
   "cell_type": "code",
   "execution_count": 48,
   "metadata": {},
   "outputs": [
    {
     "data": {
      "image/png": "[encoded data removed]",
      "text/plain": [
       "<Figure size 792x360 with 1 Axes>"
      ]
     },
     "metadata": {},
     "output_type": "display_data"
    }
   ],
   "source": [
    "plt.figure(figsize=[11,5])\n",
    "sns.barplot(x = rfc_plot.importances, y = rfc_plot.features)\n",
    "plt.title('Importances of Features Plot')\n",
    "plt.show()"
   ]
  },
  {
   "cell_type": "code",
   "execution_count": 49,
   "metadata": {},
   "outputs": [
    {
     "name": "stdout",
     "output_type": "stream",
     "text": [
      "importances    0.003822\n",
      "dtype: float64\n",
      "importances    0.012149\n",
      "dtype: float64\n"
     ]
    }
   ],
   "source": [
    "print(rfc_plot.min())\n",
    "print(rfc_plot.max())"
   ]
  },
  {
   "cell_type": "markdown",
   "metadata": {},
   "source": [
    "#### Visualize the model performance on different levels of depth"
   ]
  },
  {
   "cell_type": "code",
   "execution_count": 50,
   "metadata": {},
   "outputs": [],
   "source": [
    "depth = range(1, 100, 10)\n",
    "\n",
    "train_acc = []\n",
    "test_acc = []\n",
    "\n",
    "for i in depth:\n",
    "    rfc.set_params(n_estimators=100, max_depth=i)\n",
    "    rfc.fit(x_train, y_train)\n",
    "    train_acc.append(rfc.score(x_train, y_train))\n",
    "    test_acc.append(rfc.score(x_test, y_test))"
   ]
  },
  {
   "cell_type": "code",
   "execution_count": 51,
   "metadata": {},
   "outputs": [
    {
     "data": {
      "image/png": "[encoded data removed]",
      "text/plain": [
       "<Figure size 576x576 with 1 Axes>"
      ]
     },
     "metadata": {},
     "output_type": "display_data"
    },
    {
     "name": "stdout",
     "output_type": "stream",
     "text": [
      "Accuracy is maximum at max depth value of 91 and yields accuracy of 0.67\n"
     ]
    }
   ],
   "source": [
    "#Visualize accuracy for different regularization parameters\n",
    "\n",
    "plt.figure(figsize=(8,8))\n",
    "plt.plot(train_acc, color='r', label='Train Accuracy')\n",
    "plt.plot(test_acc, color='g', label='Test Accuracy')\n",
    "plt.xticks(range(9), depth)\n",
    "plt.xlabel('Max Depth for Random Forest')\n",
    "plt.ylabel('Accuracy')\n",
    "plt.ylim(0,1)\n",
    "plt.title('Train vs. Test Accuracy for different values of Max Depth')\n",
    "plt.legend(loc='best')\n",
    "plt.tight_layout()\n",
    "plt.show()\n",
    "\n",
    "print('Accuracy is maximum at max depth value of', depth[np.argmax(test_acc)],\n",
    "                'and yields accuracy of', round(max(test_acc), 2))"
   ]
  },
  {
   "cell_type": "markdown",
   "metadata": {},
   "source": [
    "### 4. XGboost"
   ]
  },
  {
   "cell_type": "code",
   "execution_count": 52,
   "metadata": {},
   "outputs": [
    {
     "name": "stdout",
     "output_type": "stream",
     "text": [
      "[0]\tvalidation_0-error:0.280942\tvalidation_1-error:0.356737\n",
      "Multiple eval metrics have been passed: 'validation_1-error' will be used for early stopping.\n",
      "\n",
      "Will train until validation_1-error hasn't improved in 10 rounds.\n",
      "[1]\tvalidation_0-error:0.27028\tvalidation_1-error:0.345896\n",
      "[2]\tvalidation_0-error:0.265956\tvalidation_1-error:0.340217\n",
      "[3]\tvalidation_0-error:0.260364\tvalidation_1-error:0.342798\n",
      "[4]\tvalidation_0-error:0.257829\tvalidation_1-error:0.339701\n",
      "[5]\tvalidation_0-error:0.254772\tvalidation_1-error:0.343314\n",
      "[6]\tvalidation_0-error:0.255219\tvalidation_1-error:0.339184\n",
      "[7]\tvalidation_0-error:0.254921\tvalidation_1-error:0.33557\n",
      "[8]\tvalidation_0-error:0.247018\tvalidation_1-error:0.338668\n",
      "[9]\tvalidation_0-error:0.246794\tvalidation_1-error:0.341249\n",
      "[10]\tvalidation_0-error:0.24754\tvalidation_1-error:0.340217\n",
      "[11]\tvalidation_0-error:0.247689\tvalidation_1-error:0.334022\n",
      "[12]\tvalidation_0-error:0.248732\tvalidation_1-error:0.334022\n",
      "[13]\tvalidation_0-error:0.246645\tvalidation_1-error:0.335054\n",
      "[14]\tvalidation_0-error:0.244333\tvalidation_1-error:0.335054\n",
      "[15]\tvalidation_0-error:0.243513\tvalidation_1-error:0.336603\n",
      "[16]\tvalidation_0-error:0.241351\tvalidation_1-error:0.330408\n",
      "[17]\tvalidation_0-error:0.238294\tvalidation_1-error:0.331957\n",
      "[18]\tvalidation_0-error:0.237921\tvalidation_1-error:0.330924\n",
      "[19]\tvalidation_0-error:0.23643\tvalidation_1-error:0.328343\n",
      "[20]\tvalidation_0-error:0.236132\tvalidation_1-error:0.328343\n",
      "[21]\tvalidation_0-error:0.235013\tvalidation_1-error:0.328343\n",
      "[22]\tvalidation_0-error:0.235312\tvalidation_1-error:0.32731\n",
      "[23]\tvalidation_0-error:0.233373\tvalidation_1-error:0.327827\n",
      "[24]\tvalidation_0-error:0.232255\tvalidation_1-error:0.327827\n",
      "[25]\tvalidation_0-error:0.232926\tvalidation_1-error:0.329375\n",
      "[26]\tvalidation_0-error:0.232031\tvalidation_1-error:0.328859\n",
      "[27]\tvalidation_0-error:0.231733\tvalidation_1-error:0.328343\n",
      "[28]\tvalidation_0-error:0.230316\tvalidation_1-error:0.328859\n",
      "[29]\tvalidation_0-error:0.229645\tvalidation_1-error:0.327827\n",
      "[30]\tvalidation_0-error:0.228825\tvalidation_1-error:0.326794\n",
      "[31]\tvalidation_0-error:0.225619\tvalidation_1-error:0.325245\n",
      "[32]\tvalidation_0-error:0.225171\tvalidation_1-error:0.32318\n",
      "[33]\tvalidation_0-error:0.224426\tvalidation_1-error:0.32318\n",
      "[34]\tvalidation_0-error:0.223084\tvalidation_1-error:0.324729\n",
      "[35]\tvalidation_0-error:0.222115\tvalidation_1-error:0.326794\n",
      "[36]\tvalidation_0-error:0.221071\tvalidation_1-error:0.328343\n",
      "[37]\tvalidation_0-error:0.220698\tvalidation_1-error:0.327827\n",
      "[38]\tvalidation_0-error:0.220251\tvalidation_1-error:0.327827\n",
      "[39]\tvalidation_0-error:0.218759\tvalidation_1-error:0.32731\n",
      "[40]\tvalidation_0-error:0.21779\tvalidation_1-error:0.32731\n",
      "[41]\tvalidation_0-error:0.215851\tvalidation_1-error:0.32731\n",
      "[42]\tvalidation_0-error:0.216448\tvalidation_1-error:0.329375\n",
      "Stopping. Best iteration:\n",
      "[32]\tvalidation_0-error:0.225171\tvalidation_1-error:0.32318\n",
      "\n"
     ]
    },
    {
     "data": {
      "text/plain": [
       "XGBClassifier(base_score=0.5, booster='gbtree', colsample_bylevel=1,\n",
       "       colsample_bytree=1, gamma=0, learning_rate=0.1, max_delta_step=0,\n",
       "       max_depth=30, min_child_weight=1, missing=None, n_estimators=100,\n",
       "       n_jobs=1, nthread=None, objective='binary:logistic', random_state=0,\n",
       "       reg_alpha=0, reg_lambda=1, scale_pos_weight=1, seed=None,\n",
       "       silent=True, subsample=1)"
      ]
     },
     "execution_count": 52,
     "metadata": {},
     "output_type": "execute_result"
    }
   ],
   "source": [
    "import xgboost as xgb\n",
    "\n",
    "xgb_model = xgb.XGBClassifier(max_depth=30, learning_rate=0.1) \n",
    "                       \n",
    "xgb_model.fit(x_train, y_train, early_stopping_rounds=10, eval_set=[(x_train, y_train), (x_test, y_test)])  "
   ]
  },
  {
   "cell_type": "code",
   "execution_count": 54,
   "metadata": {},
   "outputs": [
    {
     "name": "stdout",
     "output_type": "stream",
     "text": [
      "Accuracy of the test set for XGBoost model is:  0.68\n"
     ]
    }
   ],
   "source": [
    "R2_xgb = xgb_model.score(x_test,y_test) \n",
    "print (\"Accuracy of the test set for XGBoost model is: \", np.round(R2_xgb,2))"
   ]
  },
  {
   "cell_type": "code",
   "execution_count": 56,
   "metadata": {},
   "outputs": [
    {
     "name": "stdout",
     "output_type": "stream",
     "text": [
      "              precision    recall  f1-score   support\n",
      "\n",
      "           0       0.68      0.92      0.78      1200\n",
      "           1       0.69      0.28      0.40       737\n",
      "\n",
      "   micro avg       0.68      0.68      0.68      1937\n",
      "   macro avg       0.68      0.60      0.59      1937\n",
      "weighted avg       0.68      0.68      0.63      1937\n",
      "\n"
     ]
    }
   ],
   "source": [
    "#print classification report\n",
    "\n",
    "prediction_xgb = xgb_model.predict(x_test)\n",
    "print(classification_report(y_test, prediction_xgb))"
   ]
  },
  {
   "cell_type": "markdown",
   "metadata": {},
   "source": [
    "## Conclusion"
   ]
  },
  {
   "cell_type": "markdown",
   "metadata": {},
   "source": [
    "The dataset is provided by MovieLens that contains data 20M datapoint about users, movies, ratings, tags and time. Traditional approaches for this type of problem could be building recommender systems using content-based filtering, user-base filtering or Collaborative filtering. In this project, instead, I wanted to predict movie ratings using tags(metadata) that were given by users.\n",
    "\n",
    "After looking into the data, I decided to treat it as a classification problem by grouping rating > 4 as 'satisfied' and rating <= 4 as 'not satisfied'. After data cleaning and some text processing, I was able to build machine learning models using userID, movieID, movie genre and tags clustered using GloVe word embeddings.\n",
    "\n",
    "Based on the above models, XGboost achieved same accuracy as logistic regression with R2=0.68. Random forest got the highest accuracy with 0.69 R2, which is 0.7 higher than baseline model. In future study, a deep learning model(or emsemble model) should be considered for improving and achieving higher predicting results. \n",
    "\n",
    "<br>\n",
    "<br>\n",
    "<br>\n",
    "<br>\n",
    "-- project inspired by @emerdem "
   ]
  },
  {
   "cell_type": "code",
   "execution_count": null,
   "metadata": {},
   "outputs": [],
   "source": []
  },
  {
   "cell_type": "code",
   "execution_count": null,
   "metadata": {},
   "outputs": [],
   "source": []
  }
 ],
 "metadata": {
  "kernelspec": {
   "display_name": "Python [conda env:anaconda3]",
   "language": "python",
   "name": "conda-env-anaconda3-py"
  },
  "language_info": {
   "codemirror_mode": {
    "name": "ipython",
    "version": 3
   },
   "file_extension": ".py",
   "mimetype": "text/x-python",
   "name": "python",
   "nbconvert_exporter": "python",
   "pygments_lexer": "ipython3",
   "version": "3.6.8"
  }
 },
 "nbformat": 4,
 "nbformat_minor": 2
}
